{
 "cells": [
  {
   "cell_type": "code",
   "execution_count": 94,
   "id": "071a3c94",
   "metadata": {},
   "outputs": [],
   "source": [
    "from ase.visualize import view\n",
    "from ase.spacegroup import crystal\n",
    "from ase import Atoms\n",
    "from ase.calculators.vasp import Vasp\n",
    "from ase.calculators.emt import EMT\n",
    "from ase.constraints import FixAtoms\n",
    "from ase.optimize import BFGS, QuasiNewton\n",
    "from ase.build import hcp0001\n",
    "from ase.io import write,read\n",
    "import matplotlib.pyplot as plt\n",
    "from ase.visualize.plot import plot_atoms\n",
    "from ase.lattice.cubic import FaceCenteredCubic\n",
    "from ase.build import fcc111, fcc211, add_adsorbate, fcc111_root\n",
    "import ase.io as io\n",
    "from ase.build import cut\n",
    "import surfaces_with_termination as st\n",
    "import ase\n",
    "from ase.calculators.espresso import Espresso"
   ]
  },
  {
   "cell_type": "markdown",
   "id": "897b85f8",
   "metadata": {},
   "source": [
    "# Creating Pb 2ML slab along 111"
   ]
  },
  {
   "cell_type": "code",
   "execution_count": 95,
   "id": "a7fe4f4a",
   "metadata": {},
   "outputs": [
    {
     "data": {
      "text/plain": [
       "<AxesSubplot:>"
      ]
     },
     "execution_count": 95,
     "metadata": {},
     "output_type": "execute_result"
    },
    {
     "data": {
      "image/png": "[encoded data removed]",
      "text/plain": [
       "<Figure size 432x288 with 1 Axes>"
      ]
     },
     "metadata": {
      "needs_background": "light"
     },
     "output_type": "display_data"
    }
   ],
   "source": [
    "Pb = fcc111('Pb', (3,3,1))\n",
    "Pb.rotate(120, 'z', center=(0, 0, 0))\n",
    "fig, ax = plt.subplots()\n",
    "plot_atoms(Pb, ax, radii=0.3, rotation=('0x,0y,0z'))\n",
    "#fig.savefig(\"ase_slab.png\")"
   ]
  },
  {
   "cell_type": "markdown",
   "id": "fc00e204",
   "metadata": {},
   "source": [
    "# Creating Sb2Te3 unit cell"
   ]
  },
  {
   "cell_type": "code",
   "execution_count": 96,
   "id": "fbb59570",
   "metadata": {},
   "outputs": [
    {
     "data": {
      "text/plain": [
       "<AxesSubplot:>"
      ]
     },
     "execution_count": 96,
     "metadata": {},
     "output_type": "execute_result"
    },
    {
     "data": {
      "image/png": "[encoded data removed]",
      "text/plain": [
       "<Figure size 432x288 with 1 Axes>"
      ]
     },
     "metadata": {
      "needs_background": "light"
     },
     "output_type": "display_data"
    }
   ],
   "source": [
    "Sb2Te3=ase.io.read(\"Sb2Te3_mp-1201_primitive.cif\")\n",
    "fig, ax = plt.subplots()\n",
    "plot_atoms(Sb2Te3, ax, radii=0.3, rotation=('0x,0y,0z'))"
   ]
  },
  {
   "cell_type": "markdown",
   "id": "9eb97381",
   "metadata": {},
   "source": [
    "# Selecting Te-terminated surface, 3 QL "
   ]
  },
  {
   "cell_type": "code",
   "execution_count": 98,
   "id": "0f9519a5",
   "metadata": {},
   "outputs": [],
   "source": [
    "termin=st.translate_lattice(Sb2Te3, (1,1,1), tol=0.001)"
   ]
  },
  {
   "cell_type": "code",
   "execution_count": 99,
   "id": "3e6c54e1",
   "metadata": {},
   "outputs": [],
   "source": [
    "#view(termin)"
   ]
  },
  {
   "cell_type": "code",
   "execution_count": 100,
   "id": "a4f74806",
   "metadata": {},
   "outputs": [],
   "source": [
    "#view(termin[6])"
   ]
  },
  {
   "cell_type": "markdown",
   "id": "2d4cafbb",
   "metadata": {},
   "source": [
    "# Creating 111 cut"
   ]
  },
  {
   "cell_type": "code",
   "execution_count": 101,
   "id": "d9d2bcd6",
   "metadata": {
    "scrolled": true
   },
   "outputs": [],
   "source": [
    "Sb2Te3111 = ase.build.surface(termin[6], (1,1,1), 4)\n",
    "#fig, ax = plt.subplots()\n",
    "#plot_atoms(Sb2Te3111*(6,6,1), ax, radii=0.3, rotation=('0x,0y,0z'))"
   ]
  },
  {
   "cell_type": "markdown",
   "id": "3e8da863",
   "metadata": {},
   "source": [
    "# Adding Pb on top "
   ]
  },
  {
   "cell_type": "code",
   "execution_count": 102,
   "id": "94b9aad4",
   "metadata": {},
   "outputs": [],
   "source": [
    "#view(Sb2Te3111*(6,6,1))"
   ]
  },
  {
   "cell_type": "code",
   "execution_count": 103,
   "id": "388182cb",
   "metadata": {},
   "outputs": [],
   "source": [
    "sub=Sb2Te3111*(6,6,1)"
   ]
  },
  {
   "cell_type": "code",
   "execution_count": 10,
   "id": "72c594f6",
   "metadata": {},
   "outputs": [],
   "source": [
    "add_adsorbate(sub, Pb, 3.0, (7.918,0.588))"
   ]
  },
  {
   "cell_type": "code",
   "execution_count": 11,
   "id": "5516cc1f",
   "metadata": {},
   "outputs": [],
   "source": [
    "sub.center(vacuum=20.0, axis=2)"
   ]
  },
  {
   "cell_type": "code",
   "execution_count": 12,
   "id": "bac16f39",
   "metadata": {},
   "outputs": [
    {
     "data": {
      "text/plain": [
       "<subprocess.Popen at 0x146fdff4aa30>"
      ]
     },
     "execution_count": 12,
     "metadata": {},
     "output_type": "execute_result"
    }
   ],
   "source": [
    "view(sub)"
   ]
  },
  {
   "cell_type": "code",
   "execution_count": 11,
   "id": "9815629c",
   "metadata": {},
   "outputs": [
    {
     "data": {
      "text/plain": [
       "array([[ -2.8145    , -15.91430299],\n",
       "       [  7.0855    , -24.48795449],\n",
       "       [-15.1895    ,  22.66712874],\n",
       "       [ 34.3105    ,  -3.05382575],\n",
       "       [ 36.7855    ,   9.8066515 ],\n",
       "       [ 21.9355    ,   1.233     ],\n",
       "       [ 19.4605    ,  14.09347725],\n",
       "       [-10.2395    ,  22.66712874],\n",
       "       [ -7.7645    , -33.06160599],\n",
       "       [ 29.3605    ,  14.09347725],\n",
       "       [ 12.0355    ,   9.8066515 ],\n",
       "       [ -7.7645    ,   9.8066515 ],\n",
       "       [ -5.2895    , -28.77478024],\n",
       "       [ 14.5105    , -28.77478024],\n",
       "       [ 39.2605    ,  -3.05382575],\n",
       "       [ 34.3105    ,  14.09347725],\n",
       "       [ 19.4605    , -28.77478024],\n",
       "       [ -0.3395    ,  -3.05382575],\n",
       "       [-10.2395    , -20.20112874],\n",
       "       [-25.0895    , -20.20112874],\n",
       "       [ -0.3395    , -28.77478024],\n",
       "       [  9.5605    ,   5.51982575],\n",
       "       [ 16.9855    ,  26.95395449],\n",
       "       [ 24.4105    ,  31.24078024],\n",
       "       [ -5.2895    ,   5.51982575],\n",
       "       [-30.0395    ,  -3.05382575],\n",
       "       [ 14.5105    ,  14.09347725],\n",
       "       [-20.1395    , -11.62747725],\n",
       "       [ 19.4605    ,   5.51982575],\n",
       "       [  9.5605    , -11.62747725],\n",
       "       [-12.7145    ,  18.38030299],\n",
       "       [ 26.8855    ,   9.8066515 ],\n",
       "       [-12.7145    ,  26.95395449],\n",
       "       [-15.1895    ,  -3.05382575],\n",
       "       [ 12.0355    ,  26.95395449],\n",
       "       [ 16.9855    ,  35.52760599],\n",
       "       [ -2.8145    ,  26.95395449],\n",
       "       [-37.4645    ,   1.233     ],\n",
       "       [ 24.4105    , -11.62747725],\n",
       "       [-12.7145    ,  35.52760599],\n",
       "       [ -7.7645    ,  26.95395449],\n",
       "       [-17.6645    ,  35.52760599],\n",
       "       [ -5.2895    ,  14.09347725],\n",
       "       [ 26.8855    ,  18.38030299],\n",
       "       [-20.1395    ,  22.66712874],\n",
       "       [-15.1895    , -11.62747725],\n",
       "       [ 14.5105    ,  -3.05382575],\n",
       "       [-12.7145    , -15.91430299],\n",
       "       [-22.6145    ,   1.233     ],\n",
       "       [ 21.9355    ,  26.95395449],\n",
       "       [-10.2395    , -11.62747725],\n",
       "       [ 24.4105    ,  -3.05382575],\n",
       "       [-10.2395    ,  -3.05382575],\n",
       "       [ 31.8355    ,   9.8066515 ],\n",
       "       [-25.0895    ,  22.66712874],\n",
       "       [ -2.8145    ,  35.52760599],\n",
       "       [ 16.9855    ,  -7.3406515 ],\n",
       "       [ 21.9355    ,  35.52760599],\n",
       "       [ -7.7645    ,   1.233     ],\n",
       "       [ 29.3605    ,  -3.05382575],\n",
       "       [ -2.8145    ,  -7.3406515 ],\n",
       "       [  4.6105    , -11.62747725],\n",
       "       [-17.6645    ,  -7.3406515 ],\n",
       "       [ 12.0355    , -15.91430299],\n",
       "       [-17.6645    , -33.06160599],\n",
       "       [-12.7145    ,  -7.3406515 ],\n",
       "       [-10.2395    ,  31.24078024],\n",
       "       [ 31.8355    ,  -7.3406515 ],\n",
       "       [  4.6105    ,  22.66712874],\n",
       "       [-22.6145    ,  -7.3406515 ],\n",
       "       [ 12.0355    ,   1.233     ],\n",
       "       [-20.1395    ,  31.24078024],\n",
       "       [  7.0855    ,  18.38030299],\n",
       "       [  7.0855    ,  -7.3406515 ],\n",
       "       [ -2.8145    , -33.06160599],\n",
       "       [-34.9895    ,   5.51982575],\n",
       "       [  7.0855    , -33.06160599],\n",
       "       [-15.1895    ,  14.09347725],\n",
       "       [-25.0895    ,   5.51982575],\n",
       "       [  9.5605    ,  31.24078024],\n",
       "       [ 26.8855    , -24.48795449],\n",
       "       [ 36.7855    ,   1.233     ],\n",
       "       [  4.6105    , -20.20112874],\n",
       "       [ 34.3105    ,   5.51982575],\n",
       "       [ 26.8855    , -15.91430299],\n",
       "       [-20.1395    , -20.20112874],\n",
       "       [ 24.4105    ,  22.66712874],\n",
       "       [-17.6645    ,  18.38030299],\n",
       "       [ -2.8145    ,   9.8066515 ],\n",
       "       [-17.6645    ,   9.8066515 ],\n",
       "       [ 24.4105    , -28.77478024],\n",
       "       [-12.7145    ,   9.8066515 ],\n",
       "       [ 21.9355    ,  -7.3406515 ],\n",
       "       [-22.6145    ,  26.95395449],\n",
       "       [ -0.3395    , -11.62747725],\n",
       "       [  2.1355    ,  -7.3406515 ],\n",
       "       [  2.1355    ,  26.95395449],\n",
       "       [-22.6145    ,   9.8066515 ],\n",
       "       [  7.0855    ,   9.8066515 ],\n",
       "       [ 24.4105    , -20.20112874],\n",
       "       [-25.0895    , -11.62747725],\n",
       "       [-32.5145    ,   1.233     ],\n",
       "       [-17.6645    ,  26.95395449],\n",
       "       [-20.1395    ,  14.09347725],\n",
       "       [-17.6645    , -15.91430299],\n",
       "       [ 31.8355    ,  18.38030299],\n",
       "       [  9.5605    ,  14.09347725],\n",
       "       [ -5.2895    ,  -3.05382575],\n",
       "       [  2.1355    ,  35.52760599],\n",
       "       [-27.5645    ,  -7.3406515 ],\n",
       "       [ 29.3605    , -20.20112874],\n",
       "       [ 24.4105    ,  14.09347725],\n",
       "       [ 16.9855    , -33.06160599],\n",
       "       [-12.7145    , -24.48795449],\n",
       "       [-12.7145    , -33.06160599],\n",
       "       [  4.6105    ,  31.24078024],\n",
       "       [-25.0895    ,  14.09347725],\n",
       "       [-15.1895    , -28.77478024],\n",
       "       [ 12.0355    , -24.48795449],\n",
       "       [ 31.8355    , -15.91430299],\n",
       "       [  2.1355    ,   9.8066515 ],\n",
       "       [ 26.8855    ,   1.233     ],\n",
       "       [ -2.8145    , -24.48795449],\n",
       "       [-10.2395    , -28.77478024],\n",
       "       [ -7.7645    , -24.48795449],\n",
       "       [ 14.5105    ,  31.24078024],\n",
       "       [  9.5605    ,  -3.05382575],\n",
       "       [-20.1395    , -28.77478024],\n",
       "       [-20.1395    ,   5.51982575],\n",
       "       [ 24.4105    ,   5.51982575],\n",
       "       [ 21.9355    , -33.06160599],\n",
       "       [  2.1355    ,   1.233     ],\n",
       "       [ 21.9355    ,   9.8066515 ],\n",
       "       [ 41.7355    ,   1.233     ],\n",
       "       [  4.6105    ,  14.09347725],\n",
       "       [ 14.5105    ,  22.66712874],\n",
       "       [ 19.4605    ,  -3.05382575],\n",
       "       [-10.2395    ,  14.09347725],\n",
       "       [  4.6105    ,   5.51982575],\n",
       "       [-27.5645    ,  18.38030299],\n",
       "       [-27.5645    ,   9.8066515 ],\n",
       "       [ 39.2605    ,   5.51982575],\n",
       "       [ -0.3395    ,  22.66712874],\n",
       "       [ 21.9355    ,  18.38030299],\n",
       "       [ 29.3605    ,  22.66712874],\n",
       "       [ 16.9855    ,   9.8066515 ],\n",
       "       [  7.0855    , -15.91430299],\n",
       "       [ 16.9855    ,  18.38030299],\n",
       "       [ 14.5105    , -20.20112874],\n",
       "       [  7.0855    ,  26.95395449],\n",
       "       [ 29.3605    , -11.62747725],\n",
       "       [-27.5645    , -15.91430299],\n",
       "       [-30.0395    , -11.62747725],\n",
       "       [-32.5145    ,  -7.3406515 ],\n",
       "       [ 19.4605    , -20.20112874],\n",
       "       [ 12.0355    ,  -7.3406515 ],\n",
       "       [ -2.8145    ,   1.233     ],\n",
       "       [-17.6645    ,   1.233     ],\n",
       "       [ -0.3395    ,  14.09347725],\n",
       "       [ 16.9855    , -24.48795449],\n",
       "       [ -0.3395    ,   5.51982575],\n",
       "       [ 19.4605    ,  22.66712874],\n",
       "       [ 21.9355    , -24.48795449],\n",
       "       [ 12.0355    ,  35.52760599],\n",
       "       [ 14.5105    , -11.62747725],\n",
       "       [  7.0855    ,   1.233     ],\n",
       "       [  2.1355    , -24.48795449],\n",
       "       [ 21.9355    , -15.91430299],\n",
       "       [ 29.3605    ,   5.51982575],\n",
       "       [ 26.8855    ,  26.95395449],\n",
       "       [-30.0395    ,   5.51982575],\n",
       "       [  4.6105    , -28.77478024],\n",
       "       [-30.0395    ,  14.09347725],\n",
       "       [ 16.9855    , -15.91430299],\n",
       "       [ 31.8355    ,   1.233     ],\n",
       "       [  2.1355    , -33.06160599],\n",
       "       [  9.5605    ,  22.66712874],\n",
       "       [ 14.5105    ,   5.51982575],\n",
       "       [ -5.2895    ,  31.24078024],\n",
       "       [ -5.2895    ,  22.66712874],\n",
       "       [-32.5145    ,   9.8066515 ],\n",
       "       [-15.1895    ,   5.51982575],\n",
       "       [ 19.4605    ,  31.24078024],\n",
       "       [ 12.0355    , -33.06160599],\n",
       "       [  9.5605    , -28.77478024],\n",
       "       [ -0.3395    ,  31.24078024],\n",
       "       [ 26.8855    ,  -7.3406515 ],\n",
       "       [-22.6145    ,  18.38030299],\n",
       "       [  9.5605    , -20.20112874],\n",
       "       [ -7.7645    ,  18.38030299],\n",
       "       [ -5.2895    , -20.20112874],\n",
       "       [-10.2395    ,   5.51982575],\n",
       "       [ -5.2895    , -11.62747725],\n",
       "       [  2.1355    ,  18.38030299],\n",
       "       [ 19.4605    , -11.62747725],\n",
       "       [-15.1895    , -20.20112874],\n",
       "       [ 36.7855    ,  -7.3406515 ],\n",
       "       [-20.1395    ,  -3.05382575],\n",
       "       [-34.9895    ,  -3.05382575],\n",
       "       [-25.0895    ,  -3.05382575],\n",
       "       [ 12.0355    ,  18.38030299],\n",
       "       [-22.6145    , -15.91430299],\n",
       "       [ -2.8145    ,  18.38030299],\n",
       "       [ -0.3395    , -20.20112874],\n",
       "       [  4.6105    ,  -3.05382575],\n",
       "       [ -7.7645    ,  -7.3406515 ],\n",
       "       [ 34.3105    , -11.62747725],\n",
       "       [ -7.7645    , -15.91430299],\n",
       "       [-22.6145    , -24.48795449],\n",
       "       [  2.1355    , -15.91430299],\n",
       "       [-27.5645    ,   1.233     ],\n",
       "       [ 16.9855    ,   1.233     ],\n",
       "       [  7.0855    ,  35.52760599],\n",
       "       [ -7.7645    ,  35.52760599],\n",
       "       [-17.6645    , -24.48795449],\n",
       "       [-15.1895    ,  31.24078024],\n",
       "       [-12.7145    ,   1.233     ]])"
      ]
     },
     "execution_count": 11,
     "metadata": {},
     "output_type": "execute_result"
    }
   ],
   "source": [
    "triangular_lattice2"
   ]
  },
  {
   "cell_type": "code",
   "execution_count": 10,
   "id": "9fe64af3",
   "metadata": {},
   "outputs": [
    {
     "data": {
      "text/plain": [
       "{'numbers': array([82, 82, 82, 82, 82, 82, 82, 82, 82]),\n",
       " 'positions': array([[ 0.00000000e+00,  0.00000000e+00,  0.00000000e+00],\n",
       "        [-1.75008928e+00,  3.03124356e+00,  0.00000000e+00],\n",
       "        [-3.50017857e+00,  6.06248711e+00,  0.00000000e+00],\n",
       "        [-3.50017857e+00,  8.88178420e-16,  0.00000000e+00],\n",
       "        [-5.25026785e+00,  3.03124356e+00,  0.00000000e+00],\n",
       "        [-7.00035713e+00,  6.06248711e+00,  0.00000000e+00],\n",
       "        [-7.00035713e+00,  1.77635684e-15,  0.00000000e+00],\n",
       "        [-8.75044642e+00,  3.03124356e+00,  0.00000000e+00],\n",
       "        [-1.05005357e+01,  6.06248711e+00,  0.00000000e+00]]),\n",
       " 'tags': array([1, 1, 1, 1, 1, 1, 1, 1, 1])}"
      ]
     },
     "execution_count": 10,
     "metadata": {},
     "output_type": "execute_result"
    }
   ],
   "source": [
    "Pb.arrays"
   ]
  },
  {
   "cell_type": "code",
   "execution_count": 32,
   "id": "ef4a397e",
   "metadata": {},
   "outputs": [],
   "source": [
    "import trigonal as tri\n",
    "import numpy "
   ]
  },
  {
   "cell_type": "code",
   "execution_count": 105,
   "id": "4707354b",
   "metadata": {},
   "outputs": [
    {
     "name": "stdout",
     "output_type": "stream",
     "text": [
      "1\n",
      "(-5.25, 3.031088913245535)\n",
      "1\n",
      "(-5.25, 1.2810889132455352)\n"
     ]
    }
   ],
   "source": [
    "#Te_surface = numpy.array( tri.triangular_lattice(04.271, expansion_level = 30,starting_point = (0, 0)) ); # returns a list with points on the Euclidean plane (2d space)\n",
    "first = numpy.array( tri.triangular_lattice(3.5, expansion_level = 2,starting_point = (0,0)) ) # returns a list with points on the Euclidean plane (2d space)\n",
    "triangular_lattice3 = numpy.array( tri.triangular_lattice(3.5, expansion_level = 1,starting_point = (0,-1.75)) ) # returns a list with points on the Euclidean plane (2d space)\n",
    "triangular_lattice4 = numpy.array( tri.triangular_lattice(3.5, expansion_level = 2,starting_point = (0,-1.75)) ) # returns a list with points on the Euclidean plane (2d space)\n",
    "second=numpy.append(triangular_lattice3[numpy.where(triangular_lattice3[:,1]< 0)],triangular_lattice4[numpy.where(triangular_lattice4[:,1]> 0)],axis=0)\n",
    "#triangular_lattice5 = numpy.array( tri.triangular_lattice(3.5, expansion_level = 6,starting_point = (1.75,-1.75)) ) # returns a list with points on the Euclidean plane (2d space)\n",
    "#triangular_lattice6 = numpy.array( tri.triangular_lattice(3.5, expansion_level = 7,starting_point = (1.75,-1.75)) ) # returns a list with points on the Euclidean plane (2d space)\n",
    "#third=numpy.append(triangular_lattice5[numpy.where(triangular_lattice5[:,1]< 0)],triangular_lattice6[numpy.where(triangular_lattice6[:,1]> 0)],axis=0)"
   ]
  },
  {
   "cell_type": "code",
   "execution_count": 106,
   "id": "01c89796",
   "metadata": {},
   "outputs": [
    {
     "data": {
      "image/png": "[encoded data removed]",
      "text/plain": [
       "<Figure size 432x432 with 1 Axes>"
      ]
     },
     "metadata": {
      "needs_background": "light"
     },
     "output_type": "display_data"
    }
   ],
   "source": [
    "fig = plt.figure(figsize=(6,6))\n",
    "ax = fig.add_subplot(111, aspect='equal')\n",
    "#ax.scatter( *zip(*Te_surface),facecolors='r', edgecolors='r' )\n",
    "ax.scatter( *zip(*first),edgecolors='none',facecolors='g' )\n",
    "ax.scatter( *zip(*second),edgecolors='none',facecolors='k' )\n",
    "#ax.scatter( *zip(*third),edgecolors='none',facecolors='b' )\n",
    "ax.set_xlabel('$\\AA$',fontsize=20)\n",
    "ax.set_ylabel('$\\AA$',fontsize=20)\n",
    "ax.set_title('Pb 1ML ($a$=3.5 $\\AA$, black and green) \\n on Sb$_2$Te$_3$ ($a$=4.271 $\\AA$, red)',fontsize=20)\n",
    "ax.set_xlim((-70, 70))\n",
    "ax.set_ylim((-70, 70))\n",
    "ax.tick_params(direction='in',axis='both', length=1, width=1,labelsize=20)\n",
    "ax.xaxis.set_major_locator(plt.MaxNLocator(5))\n",
    "ax.yaxis.set_major_locator(plt.MaxNLocator(5))\n",
    "#plt.savefig('test.png', bbox_inches='tight')"
   ]
  },
  {
   "cell_type": "code",
   "execution_count": 107,
   "id": "ed2fc5ed",
   "metadata": {},
   "outputs": [],
   "source": [
    "z_first=numpy.zeros(first.shape[0])"
   ]
  },
  {
   "cell_type": "code",
   "execution_count": 108,
   "id": "d2b3f5f6",
   "metadata": {},
   "outputs": [],
   "source": [
    "z_first=numpy.transpose(z_first)"
   ]
  },
  {
   "cell_type": "code",
   "execution_count": 109,
   "id": "269fd9c4",
   "metadata": {},
   "outputs": [
    {
     "data": {
      "text/plain": [
       "(19, 2)"
      ]
     },
     "execution_count": 109,
     "metadata": {},
     "output_type": "execute_result"
    }
   ],
   "source": [
    "first.shape"
   ]
  },
  {
   "cell_type": "code",
   "execution_count": 110,
   "id": "d1c9dc37",
   "metadata": {},
   "outputs": [],
   "source": [
    "oneML=numpy.c_[first,z_first]"
   ]
  },
  {
   "cell_type": "code",
   "execution_count": 111,
   "id": "e9c4df6a",
   "metadata": {},
   "outputs": [],
   "source": [
    "\n",
    "Pb1ML = Atoms('Pb19',oneML)\n"
   ]
  },
  {
   "cell_type": "code",
   "execution_count": 112,
   "id": "d2ba2ec3",
   "metadata": {},
   "outputs": [],
   "source": [
    "z_sec=numpy.zeros(second.shape[0])"
   ]
  },
  {
   "cell_type": "code",
   "execution_count": 113,
   "id": "60cbe5ef",
   "metadata": {},
   "outputs": [],
   "source": [
    "z_sec=numpy.transpose(z_sec)"
   ]
  },
  {
   "cell_type": "code",
   "execution_count": 114,
   "id": "74c10544",
   "metadata": {},
   "outputs": [],
   "source": [
    "z_sec=z_sec+2.85"
   ]
  },
  {
   "cell_type": "code",
   "execution_count": 115,
   "id": "056c3acf",
   "metadata": {},
   "outputs": [],
   "source": [
    "twoML=numpy.c_[second,z_sec]"
   ]
  },
  {
   "cell_type": "code",
   "execution_count": 116,
   "id": "f7c381ba",
   "metadata": {},
   "outputs": [
    {
     "data": {
      "text/plain": [
       "(12, 2)"
      ]
     },
     "execution_count": 116,
     "metadata": {},
     "output_type": "execute_result"
    }
   ],
   "source": [
    "second.shape"
   ]
  },
  {
   "cell_type": "code",
   "execution_count": 117,
   "id": "75c39d1f",
   "metadata": {},
   "outputs": [],
   "source": [
    "Pb2ML = Atoms('Pb12',twoML)"
   ]
  },
  {
   "cell_type": "code",
   "execution_count": 124,
   "id": "9d5515db",
   "metadata": {},
   "outputs": [],
   "source": [
    "bilayer=Pb1ML+Pb2ML"
   ]
  },
  {
   "cell_type": "code",
   "execution_count": 128,
   "id": "ff7f9871",
   "metadata": {},
   "outputs": [],
   "source": [
    "bilayer.translate([40,40,0])"
   ]
  },
  {
   "cell_type": "code",
   "execution_count": 134,
   "id": "170d6047",
   "metadata": {},
   "outputs": [
    {
     "data": {
      "text/plain": [
       "<subprocess.Popen at 0x1d6af148df0>"
      ]
     },
     "execution_count": 134,
     "metadata": {},
     "output_type": "execute_result"
    }
   ],
   "source": [
    "sub2=Sb2Te3111*(6,6,1)\n",
    "add_adsorbate(sub2, bilayer, 3.0, (20,20))\n",
    "sub2.center(vacuum=20.0, axis=2)\n",
    "view(sub2)"
   ]
  },
  {
   "cell_type": "code",
   "execution_count": 131,
   "id": "185acce2",
   "metadata": {},
   "outputs": [],
   "source": [
    "add_adsorbate?"
   ]
  },
  {
   "cell_type": "code",
   "execution_count": null,
   "id": "81ee37b3",
   "metadata": {},
   "outputs": [],
   "source": []
  }
 ],
 "metadata": {
  "kernelspec": {
   "display_name": "Python 3",
   "language": "python",
   "name": "python3"
  },
  "language_info": {
   "codemirror_mode": {
    "name": "ipython",
    "version": 3
   },
   "file_extension": ".py",
   "mimetype": "text/x-python",
   "name": "python",
   "nbconvert_exporter": "python",
   "pygments_lexer": "ipython3",
   "version": "3.8.8"
  },
  "toc": {
   "base_numbering": 1,
   "nav_menu": {},
   "number_sections": true,
   "sideBar": false,
   "skip_h1_title": false,
   "title_cell": "Table of Contents",
   "title_sidebar": "Contents",
   "toc_cell": false,
   "toc_position": {},
   "toc_section_display": true,
   "toc_window_display": false
  }
 },
 "nbformat": 4,
 "nbformat_minor": 5
}
