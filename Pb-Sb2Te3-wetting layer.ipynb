{
 "cells": [
  {
   "cell_type": "code",
   "execution_count": 1,
   "id": "071a3c94",
   "metadata": {},
   "outputs": [],
   "source": [
    "from ase.visualize import view\n",
    "from ase.spacegroup import crystal\n",
    "from ase import Atoms\n",
    "from ase.calculators.vasp import Vasp\n",
    "from ase.calculators.emt import EMT\n",
    "from ase.constraints import FixAtoms\n",
    "from ase.optimize import BFGS, QuasiNewton\n",
    "from ase.build import hcp0001\n",
    "from ase.io import write,read\n",
    "import matplotlib.pyplot as plt\n",
    "from ase.visualize.plot import plot_atoms\n",
    "from ase.lattice.cubic import FaceCenteredCubic\n",
    "from ase.build import fcc111, fcc211, add_adsorbate, fcc111_root\n",
    "import ase.io as io\n",
    "from ase.build import cut\n",
    "import surfaces_with_termination as st\n",
    "import ase\n",
    "from ase.calculators.espresso import Espresso\n",
    "import trigonal as tri\n",
    "import numpy "
   ]
  },
  {
   "cell_type": "markdown",
   "id": "fc00e204",
   "metadata": {},
   "source": [
    "# Creating Sb2Te3 unit cell"
   ]
  },
  {
   "cell_type": "code",
   "execution_count": 2,
   "id": "fbb59570",
   "metadata": {},
   "outputs": [
    {
     "data": {
      "text/plain": [
       "<AxesSubplot:>"
      ]
     },
     "execution_count": 2,
     "metadata": {},
     "output_type": "execute_result"
    },
    {
     "data": {
      "image/png": "[encoded data removed]",
      "text/plain": [
       "<Figure size 432x288 with 1 Axes>"
      ]
     },
     "metadata": {
      "needs_background": "light"
     },
     "output_type": "display_data"
    }
   ],
   "source": [
    "Sb2Te3=ase.io.read(\"Sb2Te3_mp-1201_primitive.cif\")\n",
    "fig, ax = plt.subplots()\n",
    "plot_atoms(Sb2Te3, ax, radii=0.3, rotation=('0x,0y,0z'))"
   ]
  },
  {
   "cell_type": "markdown",
   "id": "9eb97381",
   "metadata": {},
   "source": [
    "# Selecting Te-terminated surface, 3 QL "
   ]
  },
  {
   "cell_type": "code",
   "execution_count": 3,
   "id": "0f9519a5",
   "metadata": {},
   "outputs": [],
   "source": [
    "termin=st.translate_lattice(Sb2Te3, (1,1,1), tol=0.001)"
   ]
  },
  {
   "cell_type": "markdown",
   "id": "2d4cafbb",
   "metadata": {},
   "source": [
    "# Creating 111 cut"
   ]
  },
  {
   "cell_type": "code",
   "execution_count": 4,
   "id": "d9d2bcd6",
   "metadata": {
    "scrolled": true
   },
   "outputs": [],
   "source": [
    "Sb2Te3111 = ase.build.surface(termin[6], (1,1,1), 4)"
   ]
  },
  {
   "cell_type": "markdown",
   "id": "3e8da863",
   "metadata": {},
   "source": [
    "# Generating Pb wetting layer with $\\sqrt(3)$R-30 distortion"
   ]
  },
  {
   "cell_type": "code",
   "execution_count": 74,
   "id": "71df4cc2",
   "metadata": {},
   "outputs": [],
   "source": [
    "a_Te=4.333\n",
    "a_Pb=numpy.sqrt(3)*0.5*a_Te\n",
    "Pb_num=2"
   ]
  },
  {
   "cell_type": "code",
   "execution_count": 75,
   "id": "4707354b",
   "metadata": {},
   "outputs": [
    {
     "name": "stdout",
     "output_type": "stream",
     "text": [
      "1\n",
      "(-5.628732111896959, 3.2497499999999997)\n"
     ]
    }
   ],
   "source": [
    "#Te_surface = numpy.array( tri.triangular_lattice(a_Te, expansion_level = 30,starting_point = (0, 0)) ); # returns a list with points on the Euclidean plane (2d space)\n",
    "wetting = numpy.array( tri.triangular_lattice(a_Pb, expansion_level =Pb_num,starting_point = (0,0)) ) # returns a list with points on the Euclidean plane (2d space)"
   ]
  },
  {
   "cell_type": "markdown",
   "id": "174bd2ee",
   "metadata": {},
   "source": [
    "# Appending Z column to above generated (x,y) position array"
   ]
  },
  {
   "cell_type": "code",
   "execution_count": 76,
   "id": "ed2fc5ed",
   "metadata": {},
   "outputs": [],
   "source": [
    "z_wetting=numpy.zeros(wetting.shape[0])\n",
    "z_wetting=numpy.transpose(z_wetting)\n",
    "wl=numpy.c_[wetting,z_wetting]"
   ]
  },
  {
   "cell_type": "markdown",
   "id": "d1cf1d30",
   "metadata": {},
   "source": [
    "# Generating Pb layer using Atoms function of ASE"
   ]
  },
  {
   "cell_type": "code",
   "execution_count": 77,
   "id": "e9c4df6a",
   "metadata": {},
   "outputs": [],
   "source": [
    "Pb_n_atom1='Pb'+ str(wetting.shape[0]) \n",
    "Pb_wl = Atoms(Pb_n_atom1,wl)"
   ]
  },
  {
   "cell_type": "markdown",
   "id": "9a09b32e",
   "metadata": {},
   "source": [
    "## Rotating Pb layer by 30 degrees"
   ]
  },
  {
   "cell_type": "code",
   "execution_count": 78,
   "id": "4ae30071",
   "metadata": {},
   "outputs": [],
   "source": [
    "Pb_wl.rotate(30, 'z')"
   ]
  },
  {
   "cell_type": "markdown",
   "id": "618af882",
   "metadata": {},
   "source": [
    "## Adding Pb WL to the substrate"
   ]
  },
  {
   "cell_type": "code",
   "execution_count": 79,
   "id": "170d6047",
   "metadata": {},
   "outputs": [
    {
     "data": {
      "text/plain": [
       "<subprocess.Popen at 0x2372d28b6d0>"
      ]
     },
     "execution_count": 79,
     "metadata": {},
     "output_type": "execute_result"
    }
   ],
   "source": [
    "sub=Sb2Te3111*(6,6,1)\n",
    "add_adsorbate(sub, Pb_wl, 3.0, (23.716,15.134))\n",
    "sub.center(vacuum=20.0, axis=2)\n",
    "view(sub)"
   ]
  },
  {
   "cell_type": "code",
   "execution_count": 73,
   "id": "4b30828f",
   "metadata": {},
   "outputs": [
    {
     "data": {
      "text/plain": [
       "<subprocess.Popen at 0x2372ce0ceb0>"
      ]
     },
     "execution_count": 73,
     "metadata": {},
     "output_type": "execute_result"
    }
   ],
   "source": [
    "# sub=Sb2Te3111*(18,18,1)\n",
    "# add_adsorbate(sub, Pb_wl, 3.0, (65.961,39.524))\n",
    "# sub.center(vacuum=20.0, axis=2)\n",
    "# view(sub)"
   ]
  },
  {
   "cell_type": "code",
   "execution_count": 80,
   "id": "185acce2",
   "metadata": {},
   "outputs": [
    {
     "data": {
      "text/plain": [
       "<AxesSubplot:>"
      ]
     },
     "execution_count": 80,
     "metadata": {},
     "output_type": "execute_result"
    },
    {
     "data": {
      "image/png": "[encoded data removed]",
      "text/plain": [
       "<Figure size 432x288 with 1 Axes>"
      ]
     },
     "metadata": {
      "needs_background": "light"
     },
     "output_type": "display_data"
    }
   ],
   "source": [
    "fig, ax = plt.subplots()\n",
    "plot_atoms(sub, ax, radii=0.3, rotation=('0x,0y,0z'))"
   ]
  },
  {
   "cell_type": "code",
   "execution_count": null,
   "id": "81ee37b3",
   "metadata": {},
   "outputs": [],
   "source": []
  }
 ],
 "metadata": {
  "kernelspec": {
   "display_name": "Python 3",
   "language": "python",
   "name": "python3"
  },
  "language_info": {
   "codemirror_mode": {
    "name": "ipython",
    "version": 3
   },
   "file_extension": ".py",
   "mimetype": "text/x-python",
   "name": "python",
   "nbconvert_exporter": "python",
   "pygments_lexer": "ipython3",
   "version": "3.8.8"
  },
  "toc": {
   "base_numbering": 1,
   "nav_menu": {},
   "number_sections": true,
   "sideBar": false,
   "skip_h1_title": false,
   "title_cell": "Table of Contents",
   "title_sidebar": "Contents",
   "toc_cell": false,
   "toc_position": {},
   "toc_section_display": true,
   "toc_window_display": false
  }
 },
 "nbformat": 4,
 "nbformat_minor": 5
}
